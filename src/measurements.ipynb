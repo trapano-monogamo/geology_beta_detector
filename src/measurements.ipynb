{
 "cells": [
  {
   "cell_type": "markdown",
   "metadata": {},
   "source": [
    "measurement:\n",
    "- sample.flac\n",
    "- spectrum.csv\n",
    "* at distance d\n",
    "* with absorbed energy E\n",
    "\n",
    "for a measurement set:\n",
    "- results.csv\n",
    "- list of measurements"
   ]
  },
  {
   "cell_type": "code",
   "execution_count": 19,
   "metadata": {},
   "outputs": [],
   "source": [
    "from os import walk\n",
    "# import threading\n",
    "\n",
    "import numpy as np\n",
    "from scipy.signal import find_peaks\n",
    "import soundfile as sf\n",
    "\n",
    "import matplotlib\n",
    "from matplotlib import pyplot as plt\n",
    "matplotlib.use('Agg')"
   ]
  },
  {
   "cell_type": "code",
   "execution_count": 20,
   "metadata": {},
   "outputs": [],
   "source": [
    "def calculate_frequencies(data: list, n_bins: int, _filter = lambda _: True) -> list:\n",
    "    m = min(data)\n",
    "    bin_width = (max(data) - min(data)) / n_bins\n",
    "    histogram = [[((m+i*bin_width) + (m+(i+1)*bin_width)) / 2.0, 0] for i in range(n_bins)]\n",
    "    filtered = filter(_filter, data)\n",
    "    for value in filtered:\n",
    "        for bin in histogram:\n",
    "            if value >= bin[0] - (bin_width/2.0) and value < bin[0] + (bin_width/2.0):\n",
    "                bin[1] += 1\n",
    "    return (bin_width, histogram)"
   ]
  },
  {
   "cell_type": "code",
   "execution_count": 21,
   "metadata": {},
   "outputs": [
    {
     "name": "stdout",
     "output_type": "stream",
     "text": [
      "[[-15.863423795455049, 1], [-13.609207187236748, 4], [-11.354990579018448, 9], [-9.100773970800148, 18], [-6.846557362581848, 20], [-4.592340754363548, 15], [-2.3381241461452476, 11], [-0.08390753792694738, 14], [2.170309070291353, 4], [4.424525678509653, 3]]\n"
     ]
    },
    {
     "ename": "TypeError",
     "evalue": "list indices must be integers or slices, not tuple",
     "output_type": "error",
     "traceback": [
      "\u001b[0;31m---------------------------------------------------------------------------\u001b[0m",
      "\u001b[0;31mTypeError\u001b[0m                                 Traceback (most recent call last)",
      "Cell \u001b[0;32mIn[21], line 9\u001b[0m\n\u001b[1;32m      7\u001b[0m fig, axs \u001b[38;5;241m=\u001b[39m plt\u001b[38;5;241m.\u001b[39msubplots(\u001b[38;5;241m2\u001b[39m)\n\u001b[1;32m      8\u001b[0m axs[\u001b[38;5;241m0\u001b[39m]\u001b[38;5;241m.\u001b[39mhist(sample, bins\u001b[38;5;241m=\u001b[39mn_bins)\n\u001b[0;32m----> 9\u001b[0m axs[\u001b[38;5;241m1\u001b[39m]\u001b[38;5;241m.\u001b[39mbar(\u001b[43mhistogram\u001b[49m\u001b[43m[\u001b[49m\u001b[43m:\u001b[49m\u001b[43m,\u001b[49m\u001b[38;5;241;43m0\u001b[39;49m\u001b[43m]\u001b[49m, histogram[:,\u001b[38;5;241m1\u001b[39m])\n",
      "\u001b[0;31mTypeError\u001b[0m: list indices must be integers or slices, not tuple"
     ]
    }
   ],
   "source": [
    "n_bins = 10\n",
    "sample = [np.random.normal(-5,5) for _ in range(0,100,1)]\n",
    "bin_width, histogram = calculate_frequencies(sample, n_bins)\n",
    "print([[b,v] for (b,v) in histogram])\n",
    "# histogram = np.ndarray()\n",
    "\n",
    "fig, axs = plt.subplots(2)\n",
    "axs[0].hist(sample, bins=n_bins)\n",
    "axs[1].bar(histogram[:,0], histogram[:,1])"
   ]
  }
 ],
 "metadata": {
  "kernelspec": {
   "display_name": "beta_detector",
   "language": "python",
   "name": "python3"
  },
  "language_info": {
   "codemirror_mode": {
    "name": "ipython",
    "version": 3
   },
   "file_extension": ".py",
   "mimetype": "text/x-python",
   "name": "python",
   "nbconvert_exporter": "python",
   "pygments_lexer": "ipython3",
   "version": "3.11.8"
  }
 },
 "nbformat": 4,
 "nbformat_minor": 2
}
